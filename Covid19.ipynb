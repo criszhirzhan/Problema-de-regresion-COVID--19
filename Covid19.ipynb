{
  "nbformat": 4,
  "nbformat_minor": 0,
  "metadata": {
    "colab": {
      "name": "MasterCovid.ipynb",
      "provenance": []
    },
    "kernelspec": {
      "name": "python3",
      "display_name": "Python 3"
    }
  },
  "cells": [
    {
      "cell_type": "markdown",
      "metadata": {
        "id": "znp3vZ_qh5-P",
        "colab_type": "text"
      },
      "source": [
        "# Para el ejercicio se busca realizar las siguientes tareas:\n",
        "\n",
        "##Integrantes:\n",
        "Christian Zhirzhan, Evelyn Pintado\n",
        "\n",
        "1.   Visualizar los datos registrados en la pandemia del Covid-19\n",
        "2.   Desarrollar preprocesamiento y aplicar aprendizaje no supervisado por clustering.\n",
        "\n",
        "Para esto se utiliza el dataset \"master_dataset.csv\" disponible en este <a href=\"https://www.covid19survivalcalculator.com/download\">enlace</a>\n"
      ]
    },
    {
      "cell_type": "markdown",
      "metadata": {
        "id": "ZG5Hujozhot2",
        "colab_type": "text"
      },
      "source": [
        "##Librerias"
      ]
    },
    {
      "cell_type": "code",
      "metadata": {
        "id": "nk5FQ2YkglVE",
        "colab_type": "code",
        "colab": {
          "base_uri": "https://localhost:8080/",
          "height": 105
        },
        "outputId": "ecd92a06-f812-412e-e7e1-5476fbf3605b"
      },
      "source": [
        "#importamos las librerias necesarias\n",
        "from tensorflow.keras.datasets import mnist\n",
        "from sklearn.model_selection import train_test_split\n",
        "from sklearn.metrics import accuracy_score\n",
        "from sklearn.linear_model import LinearRegression, BayesianRidge\n",
        "from sklearn.model_selection import RandomizedSearchCV, train_test_split\n",
        "from sklearn.svm import SVR\n",
        "from sklearn.metrics import mean_squared_error, mean_absolute_error\n",
        "from plotly.subplots import make_subplots\n",
        "from folium import plugins\n",
        "from tqdm.notebook import tqdm as tqdm\n",
        "\n",
        "import math, time \n",
        "import matplotlib.pyplot as plt\n",
        "import numpy as np \n",
        "import seaborn as sns\n",
        "import pandas as pd\n",
        "import matplotlib.colors as mcolors\n",
        "import random\n",
        "import datetime\n",
        "import operator\n",
        "plt.style.use('seaborn')\n",
        "%matplotlib inline\n",
        "import statsmodels as sm\n",
        "import folium as fl\n",
        "import plotly.offline as py\n",
        "import plotly.express as px\n",
        "import cufflinks as cf\n",
        "import plotly.graph_objects as go\n",
        "import plotly.express as px\n",
        "import plotly.io as pio\n",
        "pio.templates.default = \"plotly_dark\"\n",
        "import folium \n",
        "\n",
        "import warnings\n",
        "warnings.filterwarnings('ignore')\n",
        "\n",
        "print('####IMPORTADAS####')"
      ],
      "execution_count": null,
      "outputs": [
        {
          "output_type": "stream",
          "text": [
            "/usr/local/lib/python3.6/dist-packages/statsmodels/tools/_testing.py:19: FutureWarning:\n",
            "\n",
            "pandas.util.testing is deprecated. Use the functions in the public API at pandas.testing instead.\n",
            "\n"
          ],
          "name": "stderr"
        },
        {
          "output_type": "stream",
          "text": [
            "####IMPORTADAS####\n"
          ],
          "name": "stdout"
        }
      ]
    },
    {
      "cell_type": "markdown",
      "metadata": {
        "id": "3-R4uqPpi2TH",
        "colab_type": "text"
      },
      "source": [
        "##Carga de datos"
      ]
    },
    {
      "cell_type": "code",
      "metadata": {
        "id": "X3WC67zahvUS",
        "colab_type": "code",
        "colab": {
          "base_uri": "https://localhost:8080/",
          "height": 309
        },
        "outputId": "d2f0912d-601a-45a9-b3c0-82918c39f9d3"
      },
      "source": [
        "df = pd.read_csv('master_dataset.csv')\n",
        "df.head()"
      ],
      "execution_count": null,
      "outputs": [
        {
          "output_type": "execute_result",
          "data": {
            "text/html": [
              "<div>\n",
              "<style scoped>\n",
              "    .dataframe tbody tr th:only-of-type {\n",
              "        vertical-align: middle;\n",
              "    }\n",
              "\n",
              "    .dataframe tbody tr th {\n",
              "        vertical-align: top;\n",
              "    }\n",
              "\n",
              "    .dataframe thead th {\n",
              "        text-align: right;\n",
              "    }\n",
              "</style>\n",
              "<table border=\"1\" class=\"dataframe\">\n",
              "  <thead>\n",
              "    <tr style=\"text-align: right;\">\n",
              "      <th></th>\n",
              "      <th>survey_date</th>\n",
              "      <th>region</th>\n",
              "      <th>country</th>\n",
              "      <th>ip_latitude</th>\n",
              "      <th>ip_longitude</th>\n",
              "      <th>ip_accuracy</th>\n",
              "      <th>sex</th>\n",
              "      <th>age</th>\n",
              "      <th>height</th>\n",
              "      <th>weight</th>\n",
              "      <th>bmi</th>\n",
              "      <th>blood_type</th>\n",
              "      <th>insurance</th>\n",
              "      <th>income</th>\n",
              "      <th>race</th>\n",
              "      <th>immigrant</th>\n",
              "      <th>smoking</th>\n",
              "      <th>alcohol</th>\n",
              "      <th>cannabis</th>\n",
              "      <th>amphetamines</th>\n",
              "      <th>cocaine</th>\n",
              "      <th>lsd</th>\n",
              "      <th>mdma</th>\n",
              "      <th>contacts_count</th>\n",
              "      <th>house_count</th>\n",
              "      <th>public_transport_count</th>\n",
              "      <th>working</th>\n",
              "      <th>worried</th>\n",
              "      <th>rate_reducing_risk_single</th>\n",
              "      <th>rate_reducing_risk_single_social_distancing</th>\n",
              "      <th>rate_reducing_risk_single_washing_hands</th>\n",
              "      <th>rate_reducing_risk_house</th>\n",
              "      <th>rate_reducing_risk_house_social_distancing</th>\n",
              "      <th>rate_reducing_risk_house_washing_hands</th>\n",
              "      <th>rate_reducing_risk_single_sanitizer</th>\n",
              "      <th>rate_reducing_mask</th>\n",
              "      <th>rate_reducing_mask_type</th>\n",
              "      <th>rate_government_action</th>\n",
              "      <th>rate_government_control</th>\n",
              "      <th>rate_government_spend</th>\n",
              "      <th>covid19_positive</th>\n",
              "      <th>covid19_symptoms</th>\n",
              "      <th>covid19_contact</th>\n",
              "      <th>asthma</th>\n",
              "      <th>kidney_disease</th>\n",
              "      <th>liver_disease</th>\n",
              "      <th>compromised_immune</th>\n",
              "      <th>heart_disease</th>\n",
              "      <th>lung_disease</th>\n",
              "      <th>diabetes</th>\n",
              "      <th>hiv_positive</th>\n",
              "      <th>hypertension</th>\n",
              "      <th>other_chronic</th>\n",
              "      <th>nursing_home</th>\n",
              "      <th>health_worker</th>\n",
              "      <th>prescription_medication</th>\n",
              "      <th>opinion_infection</th>\n",
              "      <th>opinion_mortality</th>\n",
              "      <th>risk_infection</th>\n",
              "      <th>risk_mortality</th>\n",
              "    </tr>\n",
              "  </thead>\n",
              "  <tbody>\n",
              "    <tr>\n",
              "      <th>2020-03-24</th>\n",
              "      <td>NaN</td>\n",
              "      <td>CA</td>\n",
              "      <td>43.6023</td>\n",
              "      <td>-79.3058</td>\n",
              "      <td>100.0</td>\n",
              "      <td>male</td>\n",
              "      <td>20_30</td>\n",
              "      <td>178</td>\n",
              "      <td>88</td>\n",
              "      <td>27.7</td>\n",
              "      <td>bn</td>\n",
              "      <td>NaN</td>\n",
              "      <td>NaN</td>\n",
              "      <td>NaN</td>\n",
              "      <td>NaN</td>\n",
              "      <td>NaN</td>\n",
              "      <td>NaN</td>\n",
              "      <td>NaN</td>\n",
              "      <td>NaN</td>\n",
              "      <td>NaN</td>\n",
              "      <td>NaN</td>\n",
              "      <td>NaN</td>\n",
              "      <td>NaN</td>\n",
              "      <td>4.0</td>\n",
              "      <td>NaN</td>\n",
              "      <td>NaN</td>\n",
              "      <td>NaN</td>\n",
              "      <td>0</td>\n",
              "      <td>0</td>\n",
              "      <td>0</td>\n",
              "      <td>0</td>\n",
              "      <td>0</td>\n",
              "      <td>0</td>\n",
              "      <td>0</td>\n",
              "      <td>NaN</td>\n",
              "      <td>NaN</td>\n",
              "      <td>1</td>\n",
              "      <td>0</td>\n",
              "      <td>0</td>\n",
              "      <td>0</td>\n",
              "      <td>0</td>\n",
              "      <td>0</td>\n",
              "      <td>0</td>\n",
              "      <td>0</td>\n",
              "      <td>0</td>\n",
              "      <td>0</td>\n",
              "      <td>0</td>\n",
              "      <td>0</td>\n",
              "      <td>0</td>\n",
              "      <td>0</td>\n",
              "      <td>0</td>\n",
              "      <td>0</td>\n",
              "      <td>0</td>\n",
              "      <td>0</td>\n",
              "      <td>NaN</td>\n",
              "      <td>NaN</td>\n",
              "      <td>NaN</td>\n",
              "      <td>5.0</td>\n",
              "      <td>0.050</td>\n",
              "      <td>NaN</td>\n",
              "    </tr>\n",
              "    <tr>\n",
              "      <th>2020-03-25</th>\n",
              "      <td>NaN</td>\n",
              "      <td>CA</td>\n",
              "      <td>51.0263</td>\n",
              "      <td>-114.0862</td>\n",
              "      <td>5.0</td>\n",
              "      <td>female</td>\n",
              "      <td>30_40</td>\n",
              "      <td>158</td>\n",
              "      <td>54</td>\n",
              "      <td>21.6</td>\n",
              "      <td>unknown</td>\n",
              "      <td>NaN</td>\n",
              "      <td>NaN</td>\n",
              "      <td>NaN</td>\n",
              "      <td>NaN</td>\n",
              "      <td>NaN</td>\n",
              "      <td>NaN</td>\n",
              "      <td>NaN</td>\n",
              "      <td>NaN</td>\n",
              "      <td>NaN</td>\n",
              "      <td>NaN</td>\n",
              "      <td>NaN</td>\n",
              "      <td>NaN</td>\n",
              "      <td>2.0</td>\n",
              "      <td>NaN</td>\n",
              "      <td>NaN</td>\n",
              "      <td>NaN</td>\n",
              "      <td>0</td>\n",
              "      <td>0</td>\n",
              "      <td>0</td>\n",
              "      <td>0</td>\n",
              "      <td>0</td>\n",
              "      <td>0</td>\n",
              "      <td>0</td>\n",
              "      <td>NaN</td>\n",
              "      <td>NaN</td>\n",
              "      <td>0</td>\n",
              "      <td>0</td>\n",
              "      <td>0</td>\n",
              "      <td>0</td>\n",
              "      <td>0</td>\n",
              "      <td>0</td>\n",
              "      <td>0</td>\n",
              "      <td>0</td>\n",
              "      <td>0</td>\n",
              "      <td>0</td>\n",
              "      <td>0</td>\n",
              "      <td>0</td>\n",
              "      <td>0</td>\n",
              "      <td>0</td>\n",
              "      <td>0</td>\n",
              "      <td>0</td>\n",
              "      <td>0</td>\n",
              "      <td>0</td>\n",
              "      <td>NaN</td>\n",
              "      <td>NaN</td>\n",
              "      <td>NaN</td>\n",
              "      <td>5.0</td>\n",
              "      <td>0.050</td>\n",
              "      <td>NaN</td>\n",
              "    </tr>\n",
              "    <tr>\n",
              "      <th>2020-03-25</th>\n",
              "      <td>NaN</td>\n",
              "      <td>CA</td>\n",
              "      <td>43.1642</td>\n",
              "      <td>-79.8471</td>\n",
              "      <td>100.0</td>\n",
              "      <td>male</td>\n",
              "      <td>90_100</td>\n",
              "      <td>184</td>\n",
              "      <td>94</td>\n",
              "      <td>27.7</td>\n",
              "      <td>an</td>\n",
              "      <td>NaN</td>\n",
              "      <td>NaN</td>\n",
              "      <td>NaN</td>\n",
              "      <td>NaN</td>\n",
              "      <td>NaN</td>\n",
              "      <td>NaN</td>\n",
              "      <td>NaN</td>\n",
              "      <td>NaN</td>\n",
              "      <td>NaN</td>\n",
              "      <td>NaN</td>\n",
              "      <td>NaN</td>\n",
              "      <td>NaN</td>\n",
              "      <td>4.0</td>\n",
              "      <td>NaN</td>\n",
              "      <td>NaN</td>\n",
              "      <td>NaN</td>\n",
              "      <td>0</td>\n",
              "      <td>0</td>\n",
              "      <td>0</td>\n",
              "      <td>0</td>\n",
              "      <td>0</td>\n",
              "      <td>0</td>\n",
              "      <td>0</td>\n",
              "      <td>NaN</td>\n",
              "      <td>NaN</td>\n",
              "      <td>1</td>\n",
              "      <td>0</td>\n",
              "      <td>0</td>\n",
              "      <td>0</td>\n",
              "      <td>0</td>\n",
              "      <td>0</td>\n",
              "      <td>0</td>\n",
              "      <td>0</td>\n",
              "      <td>0</td>\n",
              "      <td>1</td>\n",
              "      <td>0</td>\n",
              "      <td>1</td>\n",
              "      <td>1</td>\n",
              "      <td>0</td>\n",
              "      <td>1</td>\n",
              "      <td>0</td>\n",
              "      <td>0</td>\n",
              "      <td>0</td>\n",
              "      <td>NaN</td>\n",
              "      <td>NaN</td>\n",
              "      <td>NaN</td>\n",
              "      <td>12.0</td>\n",
              "      <td>14.701</td>\n",
              "      <td>NaN</td>\n",
              "    </tr>\n",
              "    <tr>\n",
              "      <th>2020-03-25</th>\n",
              "      <td>NaN</td>\n",
              "      <td>CA</td>\n",
              "      <td>45.6605</td>\n",
              "      <td>-73.6724</td>\n",
              "      <td>5.0</td>\n",
              "      <td>male</td>\n",
              "      <td>60_70</td>\n",
              "      <td>172</td>\n",
              "      <td>96</td>\n",
              "      <td>32.4</td>\n",
              "      <td>unknown</td>\n",
              "      <td>NaN</td>\n",
              "      <td>NaN</td>\n",
              "      <td>NaN</td>\n",
              "      <td>NaN</td>\n",
              "      <td>NaN</td>\n",
              "      <td>NaN</td>\n",
              "      <td>NaN</td>\n",
              "      <td>NaN</td>\n",
              "      <td>NaN</td>\n",
              "      <td>NaN</td>\n",
              "      <td>NaN</td>\n",
              "      <td>NaN</td>\n",
              "      <td>5.0</td>\n",
              "      <td>NaN</td>\n",
              "      <td>NaN</td>\n",
              "      <td>NaN</td>\n",
              "      <td>0</td>\n",
              "      <td>0</td>\n",
              "      <td>0</td>\n",
              "      <td>0</td>\n",
              "      <td>0</td>\n",
              "      <td>0</td>\n",
              "      <td>0</td>\n",
              "      <td>NaN</td>\n",
              "      <td>NaN</td>\n",
              "      <td>0</td>\n",
              "      <td>0</td>\n",
              "      <td>0</td>\n",
              "      <td>0</td>\n",
              "      <td>0</td>\n",
              "      <td>0</td>\n",
              "      <td>0</td>\n",
              "      <td>0</td>\n",
              "      <td>0</td>\n",
              "      <td>0</td>\n",
              "      <td>0</td>\n",
              "      <td>0</td>\n",
              "      <td>1</td>\n",
              "      <td>0</td>\n",
              "      <td>1</td>\n",
              "      <td>0</td>\n",
              "      <td>0</td>\n",
              "      <td>0</td>\n",
              "      <td>NaN</td>\n",
              "      <td>NaN</td>\n",
              "      <td>NaN</td>\n",
              "      <td>6.0</td>\n",
              "      <td>2.250</td>\n",
              "      <td>NaN</td>\n",
              "    </tr>\n",
              "    <tr>\n",
              "      <th>2020-03-25</th>\n",
              "      <td>NaN</td>\n",
              "      <td>CA</td>\n",
              "      <td>49.2525</td>\n",
              "      <td>-122.9481</td>\n",
              "      <td>1.0</td>\n",
              "      <td>male</td>\n",
              "      <td>30_40</td>\n",
              "      <td>166</td>\n",
              "      <td>70</td>\n",
              "      <td>25.4</td>\n",
              "      <td>abp</td>\n",
              "      <td>NaN</td>\n",
              "      <td>NaN</td>\n",
              "      <td>NaN</td>\n",
              "      <td>NaN</td>\n",
              "      <td>NaN</td>\n",
              "      <td>NaN</td>\n",
              "      <td>NaN</td>\n",
              "      <td>NaN</td>\n",
              "      <td>NaN</td>\n",
              "      <td>NaN</td>\n",
              "      <td>NaN</td>\n",
              "      <td>NaN</td>\n",
              "      <td>7.0</td>\n",
              "      <td>NaN</td>\n",
              "      <td>NaN</td>\n",
              "      <td>NaN</td>\n",
              "      <td>0</td>\n",
              "      <td>0</td>\n",
              "      <td>0</td>\n",
              "      <td>0</td>\n",
              "      <td>0</td>\n",
              "      <td>0</td>\n",
              "      <td>0</td>\n",
              "      <td>NaN</td>\n",
              "      <td>NaN</td>\n",
              "      <td>1</td>\n",
              "      <td>0</td>\n",
              "      <td>0</td>\n",
              "      <td>0</td>\n",
              "      <td>0</td>\n",
              "      <td>0</td>\n",
              "      <td>0</td>\n",
              "      <td>0</td>\n",
              "      <td>0</td>\n",
              "      <td>0</td>\n",
              "      <td>0</td>\n",
              "      <td>0</td>\n",
              "      <td>0</td>\n",
              "      <td>0</td>\n",
              "      <td>0</td>\n",
              "      <td>0</td>\n",
              "      <td>0</td>\n",
              "      <td>0</td>\n",
              "      <td>NaN</td>\n",
              "      <td>NaN</td>\n",
              "      <td>NaN</td>\n",
              "      <td>5.0</td>\n",
              "      <td>0.050</td>\n",
              "      <td>NaN</td>\n",
              "    </tr>\n",
              "  </tbody>\n",
              "</table>\n",
              "</div>"
            ],
            "text/plain": [
              "           survey_date region  ...  risk_infection  risk_mortality\n",
              "2020-03-24         NaN     CA  ...           0.050             NaN\n",
              "2020-03-25         NaN     CA  ...           0.050             NaN\n",
              "2020-03-25         NaN     CA  ...          14.701             NaN\n",
              "2020-03-25         NaN     CA  ...           2.250             NaN\n",
              "2020-03-25         NaN     CA  ...           0.050             NaN\n",
              "\n",
              "[5 rows x 60 columns]"
            ]
          },
          "metadata": {
            "tags": []
          },
          "execution_count": 69
        }
      ]
    },
    {
      "cell_type": "markdown",
      "metadata": {
        "id": "cnaJGuVxjApb",
        "colab_type": "text"
      },
      "source": [
        "##Preprocesamiento"
      ]
    },
    {
      "cell_type": "markdown",
      "metadata": {
        "id": "Jo0DYdMkjF_L",
        "colab_type": "text"
      },
      "source": [
        "Se eligen las columnas mas importantes del dataset y se aplica limpieza de los datos vacios(NaN), luego estos datos se guardan en un archivo cvs."
      ]
    },
    {
      "cell_type": "code",
      "metadata": {
        "id": "BPuNoQQkk8UJ",
        "colab_type": "code",
        "colab": {
          "base_uri": "https://localhost:8080/",
          "height": 203
        },
        "outputId": "b40c9a24-7af2-4382-92bf-d6774a75201b"
      },
      "source": [
        "\n",
        "#df[['blood_type', 'insurance'\t,'income',\t'race',\t'immigrant',\t'smoking',\t'alcohol',\t'cannabis',\t'amphetamines'\t,'cocaine',\t'lsd'\t,'mdma'\t]] = df[['blood_type', 'insurance'\t,'income',\t'race',\t'immigrant',\t'smoking',\t'alcohol',\t'cannabis',\t'amphetamines'\t,'cocaine',\t'lsd',\t'mdma'\t]].fillna('')\n",
        "dfreducido = df[['ip_accuracy','sex','covid19_positive']]\n",
        "\n",
        "dfreducido = dfreducido.dropna()\n",
        "dfreducido = dfreducido.rename(columns={'ip_accuracy':'sexo',\n",
        "                                   'sex':'edad'})\n",
        "\n",
        "\n",
        "dfreducido.to_csv(r'procesado1.csv', header=True)\n",
        "\n",
        "p = pd.read_csv('procesado1.csv')\n",
        "p.head()"
      ],
      "execution_count": null,
      "outputs": [
        {
          "output_type": "execute_result",
          "data": {
            "text/html": [
              "<div>\n",
              "<style scoped>\n",
              "    .dataframe tbody tr th:only-of-type {\n",
              "        vertical-align: middle;\n",
              "    }\n",
              "\n",
              "    .dataframe tbody tr th {\n",
              "        vertical-align: top;\n",
              "    }\n",
              "\n",
              "    .dataframe thead th {\n",
              "        text-align: right;\n",
              "    }\n",
              "</style>\n",
              "<table border=\"1\" class=\"dataframe\">\n",
              "  <thead>\n",
              "    <tr style=\"text-align: right;\">\n",
              "      <th></th>\n",
              "      <th>Unnamed: 0</th>\n",
              "      <th>sexo</th>\n",
              "      <th>edad</th>\n",
              "      <th>covid19_positive</th>\n",
              "    </tr>\n",
              "  </thead>\n",
              "  <tbody>\n",
              "    <tr>\n",
              "      <th>0</th>\n",
              "      <td>2020-03-24</td>\n",
              "      <td>male</td>\n",
              "      <td>20_30</td>\n",
              "      <td>0</td>\n",
              "    </tr>\n",
              "    <tr>\n",
              "      <th>1</th>\n",
              "      <td>2020-03-25</td>\n",
              "      <td>female</td>\n",
              "      <td>30_40</td>\n",
              "      <td>0</td>\n",
              "    </tr>\n",
              "    <tr>\n",
              "      <th>2</th>\n",
              "      <td>2020-03-25</td>\n",
              "      <td>male</td>\n",
              "      <td>90_100</td>\n",
              "      <td>0</td>\n",
              "    </tr>\n",
              "    <tr>\n",
              "      <th>3</th>\n",
              "      <td>2020-03-25</td>\n",
              "      <td>male</td>\n",
              "      <td>60_70</td>\n",
              "      <td>0</td>\n",
              "    </tr>\n",
              "    <tr>\n",
              "      <th>4</th>\n",
              "      <td>2020-03-25</td>\n",
              "      <td>male</td>\n",
              "      <td>30_40</td>\n",
              "      <td>0</td>\n",
              "    </tr>\n",
              "  </tbody>\n",
              "</table>\n",
              "</div>"
            ],
            "text/plain": [
              "   Unnamed: 0    sexo    edad  covid19_positive\n",
              "0  2020-03-24    male   20_30                 0\n",
              "1  2020-03-25  female   30_40                 0\n",
              "2  2020-03-25    male  90_100                 0\n",
              "3  2020-03-25    male   60_70                 0\n",
              "4  2020-03-25    male   30_40                 0"
            ]
          },
          "metadata": {
            "tags": []
          },
          "execution_count": 82
        }
      ]
    },
    {
      "cell_type": "markdown",
      "metadata": {
        "id": "lsXqra1Uj5YN",
        "colab_type": "text"
      },
      "source": [
        "Dedibo a que en la columna de la edad los datos vienen dados por intervalos estos se deben clasificar en valores numericos reales. para esto se clasificaron en numero del 1 al 10.\n",
        "- 0_10 = 1\n",
        "- 10_20 = 2\n",
        "- 20_30 = 3\n",
        "- 30_40 = 4\n",
        "- 40_50 = 5\n",
        "- 50_60 = 6\n",
        "- 60_70 = 7\n",
        "- 70_80 = 8\n",
        "- 80_90 = 9\n",
        "- 90_100 = 10\n",
        "- 100_110 = 11"
      ]
    },
    {
      "cell_type": "code",
      "metadata": {
        "id": "z0PwYwdFNwfs",
        "colab_type": "code",
        "colab": {
          "base_uri": "https://localhost:8080/",
          "height": 203
        },
        "outputId": "aee5b4c2-e6be-495e-bded-cf2e553b4a05"
      },
      "source": [
        "#dfreducido = dfreducido.drop(dfreducido[dfreducido['sexo']=='other'].index)\n",
        "dfp = pd.read_csv('procesado2.csv')\n",
        "dfp.head()"
      ],
      "execution_count": null,
      "outputs": [
        {
          "output_type": "execute_result",
          "data": {
            "text/html": [
              "<div>\n",
              "<style scoped>\n",
              "    .dataframe tbody tr th:only-of-type {\n",
              "        vertical-align: middle;\n",
              "    }\n",
              "\n",
              "    .dataframe tbody tr th {\n",
              "        vertical-align: top;\n",
              "    }\n",
              "\n",
              "    .dataframe thead th {\n",
              "        text-align: right;\n",
              "    }\n",
              "</style>\n",
              "<table border=\"1\" class=\"dataframe\">\n",
              "  <thead>\n",
              "    <tr style=\"text-align: right;\">\n",
              "      <th></th>\n",
              "      <th>Unnamed: 0</th>\n",
              "      <th>sexo</th>\n",
              "      <th>edad</th>\n",
              "      <th>covid19_positive</th>\n",
              "    </tr>\n",
              "  </thead>\n",
              "  <tbody>\n",
              "    <tr>\n",
              "      <th>0</th>\n",
              "      <td>2020-03-24</td>\n",
              "      <td>male</td>\n",
              "      <td>3</td>\n",
              "      <td>0</td>\n",
              "    </tr>\n",
              "    <tr>\n",
              "      <th>1</th>\n",
              "      <td>2020-03-25</td>\n",
              "      <td>female</td>\n",
              "      <td>4</td>\n",
              "      <td>0</td>\n",
              "    </tr>\n",
              "    <tr>\n",
              "      <th>2</th>\n",
              "      <td>2020-03-25</td>\n",
              "      <td>male</td>\n",
              "      <td>9</td>\n",
              "      <td>0</td>\n",
              "    </tr>\n",
              "    <tr>\n",
              "      <th>3</th>\n",
              "      <td>2020-03-25</td>\n",
              "      <td>male</td>\n",
              "      <td>7</td>\n",
              "      <td>0</td>\n",
              "    </tr>\n",
              "    <tr>\n",
              "      <th>4</th>\n",
              "      <td>2020-03-25</td>\n",
              "      <td>male</td>\n",
              "      <td>4</td>\n",
              "      <td>0</td>\n",
              "    </tr>\n",
              "  </tbody>\n",
              "</table>\n",
              "</div>"
            ],
            "text/plain": [
              "   Unnamed: 0    sexo  edad  covid19_positive\n",
              "0  2020-03-24    male     3                 0\n",
              "1  2020-03-25  female     4                 0\n",
              "2  2020-03-25    male     9                 0\n",
              "3  2020-03-25    male     7                 0\n",
              "4  2020-03-25    male     4                 0"
            ]
          },
          "metadata": {
            "tags": []
          },
          "execution_count": 108
        }
      ]
    },
    {
      "cell_type": "code",
      "metadata": {
        "id": "pIxviF0gtL3v",
        "colab_type": "code",
        "colab": {
          "base_uri": "https://localhost:8080/",
          "height": 87
        },
        "outputId": "aeae763c-4996-4218-82b7-dc04085152c1"
      },
      "source": [
        "#Debido a que la columna de sexo del dataset  tienen etiquetas 'male' y 'female', estas se les tiene que transformar\n",
        "#a 0 y 1 para realizar el entrenamiento.\n",
        "#Las etiquetas quedan coformadas de la siguiente manera:\n",
        "#male: 1\n",
        "#female: 0\n",
        "\n",
        "\n",
        "from sklearn import preprocessing\n",
        "input_labels = ['male', 'female']\n",
        "\n",
        "# Create label encoder and fit the labels\n",
        "encoder = preprocessing.LabelEncoder()\n",
        "encoder.fit(input_labels)\n",
        "\n",
        "print(\"\\sexo:\")\n",
        "for i, item in enumerate(encoder.classes_):\n",
        "    print(item, '-->', i)\n",
        "\n",
        "listResult=[]\n",
        "for i,r in dfp.iterrows():\n",
        "        listResult.append(r['sexo'].strip())\n",
        "\n",
        "encoder = encoder.transform(listResult)\n",
        "dfp['sexo'] = list(encoder)\n",
        "y = dfp.sexo.values\n",
        "print(y)"
      ],
      "execution_count": null,
      "outputs": [
        {
          "output_type": "stream",
          "text": [
            "\\sexo:\n",
            "female --> 0\n",
            "male --> 1\n",
            "[1 0 1 ... 1 1 0]\n"
          ],
          "name": "stdout"
        }
      ]
    },
    {
      "cell_type": "code",
      "metadata": {
        "id": "SlmMM9Iuun4e",
        "colab_type": "code",
        "colab": {
          "base_uri": "https://localhost:8080/",
          "height": 417
        },
        "outputId": "e410690a-019b-4d85-953f-2c203a6dcaf0"
      },
      "source": [
        "dfp"
      ],
      "execution_count": null,
      "outputs": [
        {
          "output_type": "execute_result",
          "data": {
            "text/html": [
              "<div>\n",
              "<style scoped>\n",
              "    .dataframe tbody tr th:only-of-type {\n",
              "        vertical-align: middle;\n",
              "    }\n",
              "\n",
              "    .dataframe tbody tr th {\n",
              "        vertical-align: top;\n",
              "    }\n",
              "\n",
              "    .dataframe thead th {\n",
              "        text-align: right;\n",
              "    }\n",
              "</style>\n",
              "<table border=\"1\" class=\"dataframe\">\n",
              "  <thead>\n",
              "    <tr style=\"text-align: right;\">\n",
              "      <th></th>\n",
              "      <th>Unnamed: 0</th>\n",
              "      <th>sexo</th>\n",
              "      <th>edad</th>\n",
              "      <th>covid19_positive</th>\n",
              "    </tr>\n",
              "  </thead>\n",
              "  <tbody>\n",
              "    <tr>\n",
              "      <th>0</th>\n",
              "      <td>2020-03-24</td>\n",
              "      <td>1</td>\n",
              "      <td>3</td>\n",
              "      <td>0</td>\n",
              "    </tr>\n",
              "    <tr>\n",
              "      <th>1</th>\n",
              "      <td>2020-03-25</td>\n",
              "      <td>0</td>\n",
              "      <td>4</td>\n",
              "      <td>0</td>\n",
              "    </tr>\n",
              "    <tr>\n",
              "      <th>2</th>\n",
              "      <td>2020-03-25</td>\n",
              "      <td>1</td>\n",
              "      <td>9</td>\n",
              "      <td>0</td>\n",
              "    </tr>\n",
              "    <tr>\n",
              "      <th>3</th>\n",
              "      <td>2020-03-25</td>\n",
              "      <td>1</td>\n",
              "      <td>7</td>\n",
              "      <td>0</td>\n",
              "    </tr>\n",
              "    <tr>\n",
              "      <th>4</th>\n",
              "      <td>2020-03-25</td>\n",
              "      <td>1</td>\n",
              "      <td>4</td>\n",
              "      <td>0</td>\n",
              "    </tr>\n",
              "    <tr>\n",
              "      <th>...</th>\n",
              "      <td>...</td>\n",
              "      <td>...</td>\n",
              "      <td>...</td>\n",
              "      <td>...</td>\n",
              "    </tr>\n",
              "    <tr>\n",
              "      <th>817579</th>\n",
              "      <td>2020-07-07</td>\n",
              "      <td>0</td>\n",
              "      <td>8</td>\n",
              "      <td>0</td>\n",
              "    </tr>\n",
              "    <tr>\n",
              "      <th>817580</th>\n",
              "      <td>2020-07-07</td>\n",
              "      <td>1</td>\n",
              "      <td>8</td>\n",
              "      <td>0</td>\n",
              "    </tr>\n",
              "    <tr>\n",
              "      <th>817581</th>\n",
              "      <td>2020-07-08</td>\n",
              "      <td>1</td>\n",
              "      <td>8</td>\n",
              "      <td>0</td>\n",
              "    </tr>\n",
              "    <tr>\n",
              "      <th>817582</th>\n",
              "      <td>2020-07-06</td>\n",
              "      <td>1</td>\n",
              "      <td>6</td>\n",
              "      <td>0</td>\n",
              "    </tr>\n",
              "    <tr>\n",
              "      <th>817583</th>\n",
              "      <td>2020-07-08</td>\n",
              "      <td>0</td>\n",
              "      <td>4</td>\n",
              "      <td>0</td>\n",
              "    </tr>\n",
              "  </tbody>\n",
              "</table>\n",
              "<p>817584 rows × 4 columns</p>\n",
              "</div>"
            ],
            "text/plain": [
              "        Unnamed: 0  sexo  edad  covid19_positive\n",
              "0       2020-03-24     1     3                 0\n",
              "1       2020-03-25     0     4                 0\n",
              "2       2020-03-25     1     9                 0\n",
              "3       2020-03-25     1     7                 0\n",
              "4       2020-03-25     1     4                 0\n",
              "...            ...   ...   ...               ...\n",
              "817579  2020-07-07     0     8                 0\n",
              "817580  2020-07-07     1     8                 0\n",
              "817581  2020-07-08     1     8                 0\n",
              "817582  2020-07-06     1     6                 0\n",
              "817583  2020-07-08     0     4                 0\n",
              "\n",
              "[817584 rows x 4 columns]"
            ]
          },
          "metadata": {
            "tags": []
          },
          "execution_count": 110
        }
      ]
    },
    {
      "cell_type": "code",
      "metadata": {
        "id": "6AWyrkss0kU3",
        "colab_type": "code",
        "colab": {}
      },
      "source": [
        "dfp.to_csv(r'preprocesado.csv', index = False)"
      ],
      "execution_count": null,
      "outputs": []
    },
    {
      "cell_type": "code",
      "metadata": {
        "id": "I4anDOtb1g0a",
        "colab_type": "code",
        "colab": {
          "base_uri": "https://localhost:8080/",
          "height": 87
        },
        "outputId": "2d6080d2-ded2-404d-9549-b05c786f420f"
      },
      "source": [
        "print('Cantidad de Filas y columnas:',dfp.shape)\n",
        "print('Nombre columnas:',dfp.columns)\n",
        "print('Cantidad de Filas y columnas:',dfp.shape)\n",
        "print('Nombre columnas:',dfp.columns)"
      ],
      "execution_count": null,
      "outputs": [
        {
          "output_type": "stream",
          "text": [
            "Cantidad de Filas y columnas: (817584, 4)\n",
            "Nombre columnas: Index(['Unnamed: 0', 'sexo', 'edad', 'covid19_positive'], dtype='object')\n",
            "Cantidad de Filas y columnas: (817584, 4)\n",
            "Nombre columnas: Index(['Unnamed: 0', 'sexo', 'edad', 'covid19_positive'], dtype='object')\n"
          ],
          "name": "stdout"
        }
      ]
    },
    {
      "cell_type": "code",
      "metadata": {
        "id": "GYfkU9ad1zqm",
        "colab_type": "code",
        "colab": {
          "base_uri": "https://localhost:8080/",
          "height": 228
        },
        "outputId": "b368ea9c-dfab-41c7-abfe-ed709a6ad59a"
      },
      "source": [
        "print('Columnas, nulos y tipo de datos')\n",
        "dfp.info()"
      ],
      "execution_count": null,
      "outputs": [
        {
          "output_type": "stream",
          "text": [
            "Columnas, nulos y tipo de datos\n",
            "<class 'pandas.core.frame.DataFrame'>\n",
            "RangeIndex: 817584 entries, 0 to 817583\n",
            "Data columns (total 4 columns):\n",
            " #   Column            Non-Null Count   Dtype \n",
            "---  ------            --------------   ----- \n",
            " 0   Unnamed: 0        817584 non-null  object\n",
            " 1   sexo              817584 non-null  int64 \n",
            " 2   edad              817584 non-null  int64 \n",
            " 3   covid19_positive  817584 non-null  int64 \n",
            "dtypes: int64(3), object(1)\n",
            "memory usage: 25.0+ MB\n"
          ],
          "name": "stdout"
        }
      ]
    },
    {
      "cell_type": "markdown",
      "metadata": {
        "id": "pirtpcBFl_sK",
        "colab_type": "text"
      },
      "source": [
        "##Correlacion"
      ]
    },
    {
      "cell_type": "code",
      "metadata": {
        "id": "pWhTMhao2G3a",
        "colab_type": "code",
        "colab": {
          "base_uri": "https://localhost:8080/",
          "height": 141
        },
        "outputId": "78d5d0cc-bfb7-4984-c5ab-f95be145d304"
      },
      "source": [
        "import statsmodels.api as sm\n",
        "correl=dfp.corr()\n",
        "correl=round(correl,5)\n",
        "correl"
      ],
      "execution_count": null,
      "outputs": [
        {
          "output_type": "execute_result",
          "data": {
            "text/html": [
              "<div>\n",
              "<style scoped>\n",
              "    .dataframe tbody tr th:only-of-type {\n",
              "        vertical-align: middle;\n",
              "    }\n",
              "\n",
              "    .dataframe tbody tr th {\n",
              "        vertical-align: top;\n",
              "    }\n",
              "\n",
              "    .dataframe thead th {\n",
              "        text-align: right;\n",
              "    }\n",
              "</style>\n",
              "<table border=\"1\" class=\"dataframe\">\n",
              "  <thead>\n",
              "    <tr style=\"text-align: right;\">\n",
              "      <th></th>\n",
              "      <th>sexo</th>\n",
              "      <th>edad</th>\n",
              "      <th>covid19_positive</th>\n",
              "    </tr>\n",
              "  </thead>\n",
              "  <tbody>\n",
              "    <tr>\n",
              "      <th>sexo</th>\n",
              "      <td>1.00000</td>\n",
              "      <td>0.05567</td>\n",
              "      <td>-0.01084</td>\n",
              "    </tr>\n",
              "    <tr>\n",
              "      <th>edad</th>\n",
              "      <td>0.05567</td>\n",
              "      <td>1.00000</td>\n",
              "      <td>-0.02821</td>\n",
              "    </tr>\n",
              "    <tr>\n",
              "      <th>covid19_positive</th>\n",
              "      <td>-0.01084</td>\n",
              "      <td>-0.02821</td>\n",
              "      <td>1.00000</td>\n",
              "    </tr>\n",
              "  </tbody>\n",
              "</table>\n",
              "</div>"
            ],
            "text/plain": [
              "                     sexo     edad  covid19_positive\n",
              "sexo              1.00000  0.05567          -0.01084\n",
              "edad              0.05567  1.00000          -0.02821\n",
              "covid19_positive -0.01084 -0.02821           1.00000"
            ]
          },
          "metadata": {
            "tags": []
          },
          "execution_count": 114
        }
      ]
    },
    {
      "cell_type": "code",
      "metadata": {
        "id": "w6hHzt-rFjzO",
        "colab_type": "code",
        "colab": {
          "base_uri": "https://localhost:8080/",
          "height": 297
        },
        "outputId": "1c549fb1-784d-4dff-8a39-e8a12fe295cc"
      },
      "source": [
        "import statsmodels.api as sm\n",
        "corr = dfp.set_index('sexo').corr()\n",
        "sm.graphics.plot_corr(corr, xnames=list(corr.columns))\n",
        "plt.show()"
      ],
      "execution_count": null,
      "outputs": [
        {
          "output_type": "display_data",
          "data": {
            "image/png": "[encoded data removed]",
            "text/plain": [
              "<Figure size 432x288 with 2 Axes>"
            ]
          },
          "metadata": {
            "tags": [],
            "needs_background": "light"
          }
        }
      ]
    },
    {
      "cell_type": "code",
      "metadata": {
        "id": "FDI0fJPTRrwi",
        "colab_type": "code",
        "colab": {
          "base_uri": "https://localhost:8080/",
          "height": 158
        },
        "outputId": "523a4346-135a-47ae-fb1b-9f1f34b40f81"
      },
      "source": [
        "import math\n",
        "from sklearn.preprocessing import StandardScaler\n",
        "x=dfp[['sexo' ,'edad' ,'covid19_positive']]\n",
        "x = StandardScaler().fit_transform(x)\n",
        "print(x)\n",
        "print(\"Se han estandarizado los datos\")"
      ],
      "execution_count": null,
      "outputs": [
        {
          "output_type": "stream",
          "text": [
            "[[ 1.4169462  -1.03082746 -0.12960277]\n",
            " [-0.7057431  -0.31292318 -0.12960277]\n",
            " [ 1.4169462   3.27659821 -0.12960277]\n",
            " ...\n",
            " [ 1.4169462   2.55869393 -0.12960277]\n",
            " [ 1.4169462   1.12288538 -0.12960277]\n",
            " [-0.7057431  -0.31292318 -0.12960277]]\n",
            "Se han estandarizado los datos\n"
          ],
          "name": "stdout"
        }
      ]
    },
    {
      "cell_type": "code",
      "metadata": {
        "id": "voeza_toSPCc",
        "colab_type": "code",
        "colab": {
          "base_uri": "https://localhost:8080/",
          "height": 140
        },
        "outputId": "8bbe09b6-4c4f-4ef4-8a61-9e5ebcab0e44"
      },
      "source": [
        "from sklearn.model_selection import train_test_split\n",
        "trainset, testset = train_test_split(x, test_size=0.25)\n",
        "print(testset)"
      ],
      "execution_count": null,
      "outputs": [
        {
          "output_type": "stream",
          "text": [
            "[[-0.7057431   0.4049811  -0.12960277]\n",
            " [ 1.4169462  -0.31292318 -0.12960277]\n",
            " [-0.7057431   0.4049811  -0.12960277]\n",
            " ...\n",
            " [-0.7057431   0.4049811  -0.12960277]\n",
            " [ 1.4169462  -0.31292318 -0.12960277]\n",
            " [ 1.4169462  -1.74873173 -0.12960277]]\n"
          ],
          "name": "stdout"
        }
      ]
    },
    {
      "cell_type": "code",
      "metadata": {
        "id": "lExqwXoHSWDK",
        "colab_type": "code",
        "colab": {
          "base_uri": "https://localhost:8080/",
          "height": 299
        },
        "outputId": "f66abec2-88b7-4928-bd3d-98d4ac99d046"
      },
      "source": [
        "#X = sparse_random_matrix(100, 100, density=0.01, random_state=42)\n",
        "#X = sparse_random_matrix(3, 6, density=0.7, random_state=42)\n",
        "#print(x)\n",
        "from sklearn.decomposition import TruncatedSVD\n",
        "from sklearn.random_projection import sparse_random_matrix\n",
        "num_components=2\n",
        "svd = TruncatedSVD(n_components=num_components, n_iter=7, random_state=42)\n",
        "#com=svd.fit(x) \n",
        "principalComponents=svd.fit_transform(x)\n",
        "#y=svd.inverse_transform(principalComponents) #Transforma principalComponents a su espacio original\n",
        "\n",
        "print(svd.explained_variance_ratio_)  \n",
        "print(svd.explained_variance_ratio_.sum())  \n",
        "#print(svd.singular_values_) \n",
        "\n",
        "a = range(num_components)\n",
        "num_pc= a[::1]\n",
        "\n",
        "principalDf = pd.DataFrame(data = principalComponents\n",
        "             , columns = num_pc)\n",
        "#principalDf=round(principalDf, 2)\n",
        "print(principalDf)"
      ],
      "execution_count": null,
      "outputs": [
        {
          "output_type": "stream",
          "text": [
            "[0.35574261 0.3304499 ]\n",
            "0.6861925088855401\n",
            "               0         1\n",
            "0      -0.234967  0.392805\n",
            "1       0.603295 -0.456946\n",
            "2      -3.160017  0.850566\n",
            "3      -2.185000  0.697979\n",
            "4      -0.722475  0.469098\n",
            "...          ...       ...\n",
            "817579 -1.346739 -0.151771\n",
            "817580 -2.672509  0.774273\n",
            "817581 -2.672509  0.774273\n",
            "817582 -1.697492  0.621685\n",
            "817583  0.603295 -0.456946\n",
            "\n",
            "[817584 rows x 2 columns]\n"
          ],
          "name": "stdout"
        }
      ]
    },
    {
      "cell_type": "code",
      "metadata": {
        "id": "GIFISBpXSe5l",
        "colab_type": "code",
        "colab": {
          "base_uri": "https://localhost:8080/",
          "height": 110
        },
        "outputId": "93f4e538-bf62-4682-d898-258f9b677248"
      },
      "source": [
        "#Análisis de la correlación entre los componentes principales con la función: corr\n",
        "#En una técnica de reducción de dimensionalidad se busca la información más relevante. los componentes tienden a tener una \n",
        "#correlación aproximadamente igual a cero, puesto que el objetivo es que entre los componentes exista una gran diferencia, \n",
        "#puesto que si dos componentes fueran similares, uno de ellos sería redundante.\n",
        "\n",
        "#DataFrame.corr(method='pearson', min_periods=1)\n",
        "#Compute pairwise correlation of columns, excluding NA/null values.\n",
        "\n",
        "#method : {‘pearson’, ‘kendall’, ‘spearman’} or callable\n",
        "#pearson : standard correlation coefficient\n",
        "#kendall : Kendall Tau correlation coefficient\n",
        "#spearman : Spearman rank correlation\n",
        "\n",
        "#Correlación entre componentes\n",
        "correl=principalDf.corr()\n",
        "correl=round(correl,5)\n",
        "correl"
      ],
      "execution_count": null,
      "outputs": [
        {
          "output_type": "execute_result",
          "data": {
            "text/html": [
              "<div>\n",
              "<style scoped>\n",
              "    .dataframe tbody tr th:only-of-type {\n",
              "        vertical-align: middle;\n",
              "    }\n",
              "\n",
              "    .dataframe tbody tr th {\n",
              "        vertical-align: top;\n",
              "    }\n",
              "\n",
              "    .dataframe thead th {\n",
              "        text-align: right;\n",
              "    }\n",
              "</style>\n",
              "<table border=\"1\" class=\"dataframe\">\n",
              "  <thead>\n",
              "    <tr style=\"text-align: right;\">\n",
              "      <th></th>\n",
              "      <th>0</th>\n",
              "      <th>1</th>\n",
              "    </tr>\n",
              "  </thead>\n",
              "  <tbody>\n",
              "    <tr>\n",
              "      <th>0</th>\n",
              "      <td>1.0</td>\n",
              "      <td>-0.0</td>\n",
              "    </tr>\n",
              "    <tr>\n",
              "      <th>1</th>\n",
              "      <td>-0.0</td>\n",
              "      <td>1.0</td>\n",
              "    </tr>\n",
              "  </tbody>\n",
              "</table>\n",
              "</div>"
            ],
            "text/plain": [
              "     0    1\n",
              "0  1.0 -0.0\n",
              "1 -0.0  1.0"
            ]
          },
          "metadata": {
            "tags": []
          },
          "execution_count": 133
        }
      ]
    },
    {
      "cell_type": "markdown",
      "metadata": {
        "id": "pi-oa-HxmH7q",
        "colab_type": "text"
      },
      "source": [
        "##Clustering"
      ]
    },
    {
      "cell_type": "code",
      "metadata": {
        "id": "6b5ZnTVFSk98",
        "colab_type": "code",
        "colab": {
          "base_uri": "https://localhost:8080/",
          "height": 417
        },
        "outputId": "26b4f17e-08e2-48e2-951f-8e4308d01577"
      },
      "source": [
        "#Datamining: Clustering (método no supervisado de Machine Learning)\n",
        "import matplotlib.pyplot as plt\n",
        "from mpl_toolkits.mplot3d import Axes3D\n",
        "from sklearn import datasets\n",
        "\n",
        "from sklearn.cluster import KMeans\n",
        "\n",
        "#Kmeans Clustering \n",
        "def doKmeans(X, nclust=2):\n",
        "    model = KMeans(nclust)\n",
        "    model.fit(X)\n",
        "    clust_labels = model.predict(X)\n",
        "    cent = model.cluster_centers_\n",
        "    return (clust_labels, cent)\n",
        "\n",
        "clust_labels, cent = doKmeans(principalDf, 3)\n",
        "kmeans = pd.DataFrame(clust_labels)\n",
        "kmeans"
      ],
      "execution_count": null,
      "outputs": [
        {
          "output_type": "execute_result",
          "data": {
            "text/html": [
              "<div>\n",
              "<style scoped>\n",
              "    .dataframe tbody tr th:only-of-type {\n",
              "        vertical-align: middle;\n",
              "    }\n",
              "\n",
              "    .dataframe tbody tr th {\n",
              "        vertical-align: top;\n",
              "    }\n",
              "\n",
              "    .dataframe thead th {\n",
              "        text-align: right;\n",
              "    }\n",
              "</style>\n",
              "<table border=\"1\" class=\"dataframe\">\n",
              "  <thead>\n",
              "    <tr style=\"text-align: right;\">\n",
              "      <th></th>\n",
              "      <th>0</th>\n",
              "    </tr>\n",
              "  </thead>\n",
              "  <tbody>\n",
              "    <tr>\n",
              "      <th>0</th>\n",
              "      <td>0</td>\n",
              "    </tr>\n",
              "    <tr>\n",
              "      <th>1</th>\n",
              "      <td>1</td>\n",
              "    </tr>\n",
              "    <tr>\n",
              "      <th>2</th>\n",
              "      <td>0</td>\n",
              "    </tr>\n",
              "    <tr>\n",
              "      <th>3</th>\n",
              "      <td>0</td>\n",
              "    </tr>\n",
              "    <tr>\n",
              "      <th>4</th>\n",
              "      <td>0</td>\n",
              "    </tr>\n",
              "    <tr>\n",
              "      <th>...</th>\n",
              "      <td>...</td>\n",
              "    </tr>\n",
              "    <tr>\n",
              "      <th>817579</th>\n",
              "      <td>0</td>\n",
              "    </tr>\n",
              "    <tr>\n",
              "      <th>817580</th>\n",
              "      <td>0</td>\n",
              "    </tr>\n",
              "    <tr>\n",
              "      <th>817581</th>\n",
              "      <td>0</td>\n",
              "    </tr>\n",
              "    <tr>\n",
              "      <th>817582</th>\n",
              "      <td>0</td>\n",
              "    </tr>\n",
              "    <tr>\n",
              "      <th>817583</th>\n",
              "      <td>1</td>\n",
              "    </tr>\n",
              "  </tbody>\n",
              "</table>\n",
              "<p>817584 rows × 1 columns</p>\n",
              "</div>"
            ],
            "text/plain": [
              "        0\n",
              "0       0\n",
              "1       1\n",
              "2       0\n",
              "3       0\n",
              "4       0\n",
              "...    ..\n",
              "817579  0\n",
              "817580  0\n",
              "817581  0\n",
              "817582  0\n",
              "817583  1\n",
              "\n",
              "[817584 rows x 1 columns]"
            ]
          },
          "metadata": {
            "tags": []
          },
          "execution_count": 134
        }
      ]
    },
    {
      "cell_type": "code",
      "metadata": {
        "id": "f6sqCcaESsCo",
        "colab_type": "code",
        "colab": {
          "base_uri": "https://localhost:8080/",
          "height": 265
        },
        "outputId": "24108a36-09e5-4d1c-f5b5-68830f8b3feb"
      },
      "source": [
        "#Visualización de grupos de usuarios en 3D\n",
        "from mpl_toolkits import mplot3d\n",
        "%matplotlib inline\n",
        "import numpy as np\n",
        "import matplotlib.pyplot as plt\n",
        "fig = plt.figure()\n",
        "ax = plt.axes(projection='3d')\n",
        "\n",
        "# Data for a three-dimensional line\n",
        "zline = np.linspace(-5, 5, 11)\n",
        "xline = np.linspace(0, 10, 11)\n",
        "yline = np.linspace(0, 15, 11)\n",
        "#ax.plot3D(xline, yline, zline, 'gray')\n",
        "\n",
        "# Data for three-dimensional scattered points\n",
        "zdata = principalDf[0]\n",
        "xdata = principalDf[1]\n",
        "#ydata = principalDf[2]\n",
        "#ax.scatter3D(xdata, ydata, zdata, c=zdata);\n",
        "ax.scatter3D(xdata, zdata);\n",
        "ax.set_title('K-Means Clustering')\n",
        "ax.set_xlabel('1ER FACTOR')\n",
        "#ax.set_ylabel('2DO FACTOR')\n",
        "ax.set_zlabel('2DO FACTOR')"
      ],
      "execution_count": null,
      "outputs": [
        {
          "output_type": "execute_result",
          "data": {
            "text/plain": [
              "Text(0.5, 0, '2DO FACTOR')"
            ]
          },
          "metadata": {
            "tags": []
          },
          "execution_count": 138
        },
        {
          "output_type": "display_data",
          "data": {
            "image/png": "[encoded data removed]",
            "text/plain": [
              "<Figure size 432x288 with 1 Axes>"
            ]
          },
          "metadata": {
            "tags": [],
            "needs_background": "light"
          }
        }
      ]
    },
    {
      "cell_type": "code",
      "metadata": {
        "id": "WixUF6dRTNZC",
        "colab_type": "code",
        "colab": {
          "base_uri": "https://localhost:8080/",
          "height": 311
        },
        "outputId": "aed904e4-3493-4c05-e0c9-deecfaf3135b"
      },
      "source": [
        "#Visualización de grupos de usuarios en 2D\n",
        "fig = plt.figure()\n",
        "ax = fig.add_subplot(111)\n",
        "scatter = ax.scatter(principalDf[0],principalDf[1],\n",
        "                     c=kmeans[0],s=50)\n",
        "ax.set_title('K-Means Clustering')\n",
        "ax.set_xlabel('1ER FACTOR')\n",
        "ax.set_ylabel('2DO FACTOR')\n",
        "plt.colorbar(scatter)"
      ],
      "execution_count": null,
      "outputs": [
        {
          "output_type": "execute_result",
          "data": {
            "text/plain": [
              "<matplotlib.colorbar.Colorbar at 0x7f7bf8ac6390>"
            ]
          },
          "metadata": {
            "tags": []
          },
          "execution_count": 139
        },
        {
          "output_type": "display_data",
          "data": {
            "image/png": "[encoded data removed]",
            "text/plain": [
              "<Figure size 432x288 with 2 Axes>"
            ]
          },
          "metadata": {
            "tags": [],
            "needs_background": "light"
          }
        }
      ]
    },
    {
      "cell_type": "code",
      "metadata": {
        "id": "dbCgn15nWSNR",
        "colab_type": "code",
        "colab": {}
      },
      "source": [
        ""
      ],
      "execution_count": null,
      "outputs": []
    }
  ]
}